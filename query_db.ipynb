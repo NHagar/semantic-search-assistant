{
 "cells": [
  {
   "cell_type": "code",
   "execution_count": 1,
   "id": "ecf4a3cf",
   "metadata": {},
   "outputs": [],
   "source": [
    "import chromadb"
   ]
  },
  {
   "cell_type": "code",
   "execution_count": 9,
   "id": "7abe9cde",
   "metadata": {},
   "outputs": [],
   "source": [
    "chroma_client = chromadb.PersistentClient(path=\"chroma_db\")\n",
    "collection = chroma_client.get_collection(\"documents\")"
   ]
  },
  {
   "cell_type": "code",
   "execution_count": 13,
   "id": "ef7416f6",
   "metadata": {},
   "outputs": [],
   "source": [
    "metadatas = collection.get()['metadatas']"
   ]
  },
  {
   "cell_type": "code",
   "execution_count": 29,
   "id": "fb6e2290",
   "metadata": {},
   "outputs": [
    {
     "data": {
      "text/plain": [
       "{'citation_key': '7aa4eb:1',\n",
       " 'chunk_id': 1,\n",
       " 'filename': 'Sustainable_hosting_-_A_closer_look_at_the_Hamina_Google_data_center___Templ.txt',\n",
       " 'path': 'data/Sustainable_hosting_-_A_closer_look_at_the_Hamina_Google_data_center___Templ.txt',\n",
       " 'content': '/ / templ. io / blog / hamina - google - data - center / 5 / 8 comment * name * email * post comment7 / 23 / 25, 5 : 18 pm sustainable hosting - a closer look at the hamina google data center | templ https : / / templ. io / blog / hamina - google - data - center / 6 / 8 solutions managed wordpress hosting for agencies woocommerce hosting domains email pricing why templ speed features security features support features development features carbon neutrality reliability templ vs wp engine company about customer stories partners become a partner become an affiliate affiliate area legal blog press7 / 23 / 25, 5 : 18 pm sustainable hosting - a closer look at the hamina google data center | templ https : / / templ. io / blog / hamina - google - data - center / 7 / 8 careers support & social knowledge base my account contact system status facebook youtube linkedin whois 2025 wootemple ab © copyright cin 559123 - 5105. english7 / 23 / 25, 5 : 18 pm sustainable hosting - a closer look at the hamina google data center | templ https : / / templ. io / blog / hamina - google - data - center / 8 / 8 [SEP]',\n",
       " 'original_length': 5327}"
      ]
     },
     "execution_count": 29,
     "metadata": {},
     "output_type": "execute_result"
    }
   ],
   "source": [
    "metadatas[-5]"
   ]
  },
  {
   "cell_type": "code",
   "execution_count": null,
   "id": "9abc5ddc",
   "metadata": {},
   "outputs": [],
   "source": []
  }
 ],
 "metadata": {
  "kernelspec": {
   "display_name": "semantic-search-assistant",
   "language": "python",
   "name": "python3"
  },
  "language_info": {
   "codemirror_mode": {
    "name": "ipython",
    "version": 3
   },
   "file_extension": ".py",
   "mimetype": "text/x-python",
   "name": "python",
   "nbconvert_exporter": "python",
   "pygments_lexer": "ipython3",
   "version": "3.12.9"
  }
 },
 "nbformat": 4,
 "nbformat_minor": 5
}
