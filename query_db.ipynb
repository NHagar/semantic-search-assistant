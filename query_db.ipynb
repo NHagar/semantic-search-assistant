{
 "cells": [
  {
   "cell_type": "code",
   "execution_count": 1,
   "id": "ecf4a3cf",
   "metadata": {},
   "outputs": [],
   "source": [
    "import chromadb"
   ]
  },
  {
   "cell_type": "code",
   "execution_count": 147,
   "id": "7abe9cde",
   "metadata": {},
   "outputs": [],
   "source": [
    "chroma_client = chromadb.PersistentClient(path=\"chroma_dbs/climate-legal-docs\")\n",
    "collection = chroma_client.get_collection(\"documents\")"
   ]
  },
  {
   "cell_type": "code",
   "execution_count": 148,
   "id": "ef7416f6",
   "metadata": {},
   "outputs": [],
   "source": [
    "metadatas = collection.get()['metadatas']"
   ]
  },
  {
   "cell_type": "code",
   "execution_count": 165,
   "id": "fb6e2290",
   "metadata": {},
   "outputs": [
    {
     "data": {
      "text/plain": [
       "'robots will increasingly be deployed to maintain and manage energy plants ( chawla et al., 2 0 2 2 ). in the context of the circular economy, ai could help design and sustain circular products by, for instance, increasing the usability of electronics through predictive maintenance or ensuring better e - waste management with the help of image recognition. there are many other possible sustainable applications of ai, including land - use planning, forecasting of environmental risks, waste management as well as geoscience ( sharma et al., 2 0 2 0 ). while ai can serve as a transformational agent of sustainability, the technology itself is far from sustainable. data suggests that the training of a single ai model emits roughly 626, 000 pounds of co 2that equates to lifetime emissions of ﬁve american cars ( hao, 2019 ). similarly, the training of google ’ s chatbot meena is said to have consumed around 96 metric tons of carbon dioxide, which is equivalent to powering more than 17 homes for a year ( khan, 2021 ). much of the co 2consumption is attributed to data centres that store data ultimately fed into ai. at present, such centres account for 2 % of global electricity use ( elegant, 2019 ) and forecasts show that by 2030, over 6 % of global energy will be consumed by data centres ( dickson, 2020 ). the environmental implications of ai are therefore far from negligible. other examples of unsustainable ai include unintended consequences of seemingly sustainable application of this technology ( mcclelland, 2020 ). for instance, an ai model can be focused on a single metric such as co 2, but ignore or even aggravate other environmental risks such as ocean plastic ( mcclelland, 2020 ). tg 16, 3 350 downloaded from http : / / www. emerald. com / tg / article - pdf / 16 / 3 / 347 / 2352098 / tg - 06 - 2021 - 0106. pdf by guest on 23 july 2025 as the demand for ai continues to increase, the environmental consequences are equally bound to amplify. it is therefore essential to address such implications in a timely manner toensure that sustainability by design becomes one of the key drivers of ai development. 3. governance of sustainable arti ﬁcial intelligence realising the transformative potential of ai, governments and international bodies have released principles or established projects that should guide the development and implementation of ai. in theory, the objective of these different ai governance initiatives isto “ provide regulations and standards and represent the goals and expectations of society based on human values, ethics and social norms ” ( wirtz et al., 2 0 2 0, p. 2 ). the itu, for instance, has established a focus group on environmental ef ﬁciency aimed at working on technical reports and standardisation to develop a sustainable approach to ai ( international telecommunication union, 2019, p. 2 9 ). the oecd council recommendation on arti ﬁcial intelligence, adopted in may 2019, identi ﬁes key principles for responsible stewardship of trustworthy ai that should be implemented by all stakeholders. these include, among others, the principle of inclusive growth, sustainable development and well - being, stipulating that “ stakeholders should proactively engage [... ] in pursuit of [... ] sustainable development and well - being ” ( organisation for economic co - operation and development, 2019 ). however, the recommendation fails to address the sustainable design of ai models. a surge in national ai initiatives has also swept the globe. in early 2017, canada was the ﬁrst country in the world to publicise an ai strategy. in the coming months, only a handful of nations, mainly the most technologically advanced countries such as china, united arabemirates, france and germany drafted their national ai strategies. the vast majority of national initiatives came in between 2018 and 2020, with the rise in academic ( perrault et al., 2019 ) and newspaper ( sun et al., 2 0 2 0 ) articles tackling ai - related challenges and opportunities. the strategies approach the issue of sustainability from two angles. they address, in van wynsberghe ’ s ( 2021 ) words, the signi ﬁcance of ai for sustainability, as well as the sustainability of ai. these two aspects of the intersection of ai and sustainability through the lens of national ai strategies will be addressed in greater detail below. the documents focus primarily on the social and economic domains of sustainability. luxembourg, for instance, lays emphasis on international and regional cooperation and knowledge sharing on ai - solutions that will ultimately contribute to the eradication of extreme poverty and promote sustainability ( the government of the grand duchy of luxembourg, 2019 ). second, ai is considered to play a major role in increasing economic productivity. india ’ s strategy stresses the paramount role of ai in helping solve pressing issues across agriculture value chains and increasing agricultural productivity globally ( niti aayog, 2018 ).'"
      ]
     },
     "execution_count": 165,
     "metadata": {},
     "output_type": "execute_result"
    }
   ],
   "source": [
    "[i for i in metadatas if i[\"citation_key\"] == \"c1c55a:3\"][0][\"content\"]"
   ]
  },
  {
   "cell_type": "code",
   "execution_count": 109,
   "id": "9abc5ddc",
   "metadata": {},
   "outputs": [
    {
     "data": {
      "text/plain": [
       "[\"015 the group has taken advantage of the exemption within frs 102 section 33 paragraph 33. 1a from the requirement to disclose transactions with. wholly owned companies within the group. 22 controlling party the ultimate parent undertaking is the donald j. trump revocable trust, a new yori < state granter trust registered in new york, usa. the ultimate controlling party is mr donald j trump. golf recreation scotland limited is the smallest and largest group of companies for which group accounts are prepared. - 26 - golf recreation scotland limited notes to the financial statements ( continued ) for the year ended 31 december 2015 23 subsidiaries details of the company's subsidiaries at 31 december 2015 are as follows : name of undertaking and country of nature of business class of % held incorporation or residency shareholding direct indirect slc turnberry limited united golf and leisure facilities ordinary kingdom 100. 00 ot connect europe limited united helicopter operations ordinary kingdom 100. 00 nitto world co., limited united dormant ordinary kingdom 100. 00 the share capital of nitto world co., limited is 100 % owned by slc turnberry limited 24 cash generated from operations 2015 2014 £000 £000 loss for the year after tax ( 8, 396 ) ( 3, 603 ) adjustments for : finance costs 15 amortisation and impairment of intangible assets 2, 591 1, 564 depreciation and impairment of tangible fixed assets 3, 111 2, 296 movements in working capital : ( lncrease ) / decrease in stocks ( 120 ) 648 ( lncrease ) / decrease in debtors ( 1, 034 ) 176 lncrease / ( decrease ) in creditors 1, 276 ( 1, 549 ) cash absorbed by operations ( 2, 572 ) ( 453 ) - - - - - 27 - [SEP]\"]"
      ]
     },
     "execution_count": 109,
     "metadata": {},
     "output_type": "execute_result"
    }
   ],
   "source": [
    "[i[\"content\"] for i in metadatas if \"7db3cb\" in i[\"citation_key\"] and \"small\" in i[\"content\"]]"
   ]
  },
  {
   "cell_type": "code",
   "execution_count": null,
   "id": "69bf8354",
   "metadata": {},
   "outputs": [],
   "source": []
  }
 ],
 "metadata": {
  "kernelspec": {
   "display_name": "semantic-search-assistant",
   "language": "python",
   "name": "python3"
  },
  "language_info": {
   "codemirror_mode": {
    "name": "ipython",
    "version": 3
   },
   "file_extension": ".py",
   "mimetype": "text/x-python",
   "name": "python",
   "nbconvert_exporter": "python",
   "pygments_lexer": "ipython3",
   "version": "3.12.9"
  }
 },
 "nbformat": 4,
 "nbformat_minor": 5
}
