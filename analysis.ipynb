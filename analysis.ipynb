{
 "cells": [
  {
   "cell_type": "code",
   "execution_count": 2,
   "id": "c0f1166a",
   "metadata": {},
   "outputs": [],
   "source": [
    "import duckdb"
   ]
  },
  {
   "cell_type": "code",
   "execution_count": 3,
   "id": "c71044cb",
   "metadata": {},
   "outputs": [],
   "source": [
    "con = duckdb.connect()"
   ]
  },
  {
   "cell_type": "code",
   "execution_count": 7,
   "id": "a0e8b932",
   "metadata": {},
   "outputs": [],
   "source": [
    "df = con.execute(\"SELECT * FROM 'annotations/annotations.csv'\").fetchdf()"
   ]
  },
  {
   "cell_type": "code",
   "execution_count": 21,
   "id": "755c567f",
   "metadata": {},
   "outputs": [
    {
     "name": "stderr",
     "output_type": "stream",
     "text": [
      "/var/folders/m8/v1brzj4s56g48wwmpht61td40000gq/T/ipykernel_37033/79630323.py:2: SettingWithCopyWarning: \n",
      "A value is trying to be set on a copy of a slice from a DataFrame.\n",
      "Try using .loc[row_indexer,col_indexer] = value instead\n",
      "\n",
      "See the caveats in the documentation: https://pandas.pydata.org/pandas-docs/stable/user_guide/indexing.html#returning-a-view-versus-a-copy\n",
      "  filtered[\"csr\"] = 1 - (filtered[\"unsupported claims\"].astype(int) / filtered[\"total claims\"].astype(int))\n",
      "/var/folders/m8/v1brzj4s56g48wwmpht61td40000gq/T/ipykernel_37033/79630323.py:3: SettingWithCopyWarning: \n",
      "A value is trying to be set on a copy of a slice from a DataFrame.\n",
      "Try using .loc[row_indexer,col_indexer] = value instead\n",
      "\n",
      "See the caveats in the documentation: https://pandas.pydata.org/pandas-docs/stable/user_guide/indexing.html#returning-a-view-versus-a-copy\n",
      "  filtered[\"hsi\"] = filtered[\"minor h\"].astype(int) + (filtered[\"moderate h\"].astype(int) * 2) + (filtered[\"severe h\"].astype(int) * 3)\n",
      "/var/folders/m8/v1brzj4s56g48wwmpht61td40000gq/T/ipykernel_37033/79630323.py:4: SettingWithCopyWarning: \n",
      "A value is trying to be set on a copy of a slice from a DataFrame.\n",
      "Try using .loc[row_indexer,col_indexer] = value instead\n",
      "\n",
      "See the caveats in the documentation: https://pandas.pydata.org/pandas-docs/stable/user_guide/indexing.html#returning-a-view-versus-a-copy\n",
      "  filtered[\"icr\"] = filtered[\"invalid citations\"].astype(int) / filtered[\"total citations\"].astype(int)\n",
      "/var/folders/m8/v1brzj4s56g48wwmpht61td40000gq/T/ipykernel_37033/79630323.py:5: SettingWithCopyWarning: \n",
      "A value is trying to be set on a copy of a slice from a DataFrame.\n",
      "Try using .loc[row_indexer,col_indexer] = value instead\n",
      "\n",
      "See the caveats in the documentation: https://pandas.pydata.org/pandas-docs/stable/user_guide/indexing.html#returning-a-view-versus-a-copy\n",
      "  filtered[\"par\"] = filtered[\"addressed items\"].astype(int) / filtered[\"plan items\"].astype(int)\n"
     ]
    }
   ],
   "source": [
    "filtered = df[(df[\"total claims\"]!=\"-\") & (df.thread != \"final\")]\n",
    "filtered[\"csr\"] = 1 - (filtered[\"unsupported claims\"].astype(int) / filtered[\"total claims\"].astype(int))\n",
    "filtered[\"hsi\"] = filtered[\"minor h\"].astype(int) + (filtered[\"moderate h\"].astype(int) * 2) + (filtered[\"severe h\"].astype(int) * 3)\n",
    "filtered[\"icr\"] = filtered[\"invalid citations\"].astype(int) / filtered[\"total citations\"].astype(int)\n",
    "filtered[\"par\"] = filtered[\"addressed items\"].astype(int) / filtered[\"plan items\"].astype(int)"
   ]
  },
  {
   "cell_type": "code",
   "execution_count": 22,
   "id": "6a079dc9",
   "metadata": {},
   "outputs": [
    {
     "data": {
      "application/vnd.microsoft.datawrangler.viewer.v0+json": {
       "columns": [
        {
         "name": "('model', 'corpus')",
         "rawType": "object",
         "type": "unknown"
        },
        {
         "name": "csr",
         "rawType": "float64",
         "type": "float"
        },
        {
         "name": "hsi",
         "rawType": "float64",
         "type": "float"
        },
        {
         "name": "icr",
         "rawType": "float64",
         "type": "float"
        },
        {
         "name": "par",
         "rawType": "float64",
         "type": "float"
        }
       ],
       "ref": "27cc6465-c63a-4dc6-9f4d-b73cbd25fe44",
       "rows": [
        [
         "('GPT-OSS', 'AI')",
         "0.9166666666666666",
         "22.5",
         "0.0",
         "1.0"
        ],
        [
         "('GPT-OSS', 'Trump')",
         "1.0",
         "1.5",
         "0.0",
         "1.0"
        ],
        [
         "('Gemma', 'AI')",
         "1.0",
         "8.571428571428571",
         "0.09523809523809523",
         "0.7857142857142857"
        ],
        [
         "('Qwen', 'AI')",
         "0.951388888888889",
         "1.8333333333333333",
         "0.0",
         "1.0"
        ],
        [
         "('Qwen', 'Trump')",
         "0.9814814814814815",
         "1.0",
         "0.0",
         "1.0"
        ]
       ],
       "shape": {
        "columns": 4,
        "rows": 5
       }
      },
      "text/html": [
       "<div>\n",
       "<style scoped>\n",
       "    .dataframe tbody tr th:only-of-type {\n",
       "        vertical-align: middle;\n",
       "    }\n",
       "\n",
       "    .dataframe tbody tr th {\n",
       "        vertical-align: top;\n",
       "    }\n",
       "\n",
       "    .dataframe thead th {\n",
       "        text-align: right;\n",
       "    }\n",
       "</style>\n",
       "<table border=\"1\" class=\"dataframe\">\n",
       "  <thead>\n",
       "    <tr style=\"text-align: right;\">\n",
       "      <th></th>\n",
       "      <th></th>\n",
       "      <th>csr</th>\n",
       "      <th>hsi</th>\n",
       "      <th>icr</th>\n",
       "      <th>par</th>\n",
       "    </tr>\n",
       "    <tr>\n",
       "      <th>model</th>\n",
       "      <th>corpus</th>\n",
       "      <th></th>\n",
       "      <th></th>\n",
       "      <th></th>\n",
       "      <th></th>\n",
       "    </tr>\n",
       "  </thead>\n",
       "  <tbody>\n",
       "    <tr>\n",
       "      <th rowspan=\"2\" valign=\"top\">GPT-OSS</th>\n",
       "      <th>AI</th>\n",
       "      <td>0.916667</td>\n",
       "      <td>22.500000</td>\n",
       "      <td>0.000000</td>\n",
       "      <td>1.000000</td>\n",
       "    </tr>\n",
       "    <tr>\n",
       "      <th>Trump</th>\n",
       "      <td>1.000000</td>\n",
       "      <td>1.500000</td>\n",
       "      <td>0.000000</td>\n",
       "      <td>1.000000</td>\n",
       "    </tr>\n",
       "    <tr>\n",
       "      <th>Gemma</th>\n",
       "      <th>AI</th>\n",
       "      <td>1.000000</td>\n",
       "      <td>8.571429</td>\n",
       "      <td>0.095238</td>\n",
       "      <td>0.785714</td>\n",
       "    </tr>\n",
       "    <tr>\n",
       "      <th rowspan=\"2\" valign=\"top\">Qwen</th>\n",
       "      <th>AI</th>\n",
       "      <td>0.951389</td>\n",
       "      <td>1.833333</td>\n",
       "      <td>0.000000</td>\n",
       "      <td>1.000000</td>\n",
       "    </tr>\n",
       "    <tr>\n",
       "      <th>Trump</th>\n",
       "      <td>0.981481</td>\n",
       "      <td>1.000000</td>\n",
       "      <td>0.000000</td>\n",
       "      <td>1.000000</td>\n",
       "    </tr>\n",
       "  </tbody>\n",
       "</table>\n",
       "</div>"
      ],
      "text/plain": [
       "                     csr        hsi       icr       par\n",
       "model   corpus                                         \n",
       "GPT-OSS AI      0.916667  22.500000  0.000000  1.000000\n",
       "        Trump   1.000000   1.500000  0.000000  1.000000\n",
       "Gemma   AI      1.000000   8.571429  0.095238  0.785714\n",
       "Qwen    AI      0.951389   1.833333  0.000000  1.000000\n",
       "        Trump   0.981481   1.000000  0.000000  1.000000"
      ]
     },
     "execution_count": 22,
     "metadata": {},
     "output_type": "execute_result"
    }
   ],
   "source": [
    "filtered[[\"model\", \"corpus\", \"csr\", \"hsi\", \"icr\", \"par\"]].groupby([\"model\", \"corpus\"]).mean()"
   ]
  },
  {
   "cell_type": "code",
   "execution_count": null,
   "id": "c340b1ec",
   "metadata": {},
   "outputs": [],
   "source": []
  }
 ],
 "metadata": {
  "kernelspec": {
   "display_name": "semantic-search-assistant",
   "language": "python",
   "name": "python3"
  },
  "language_info": {
   "codemirror_mode": {
    "name": "ipython",
    "version": 3
   },
   "file_extension": ".py",
   "mimetype": "text/x-python",
   "name": "python",
   "nbconvert_exporter": "python",
   "pygments_lexer": "ipython3",
   "version": "3.12.9"
  }
 },
 "nbformat": 4,
 "nbformat_minor": 5
}
